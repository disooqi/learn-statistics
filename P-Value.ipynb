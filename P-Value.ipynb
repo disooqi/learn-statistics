{
 "cells": [
  {
   "cell_type": "markdown",
   "id": "wooden-depth",
   "metadata": {},
   "source": [
    "# P-Value"
   ]
  },
  {
   "cell_type": "markdown",
   "id": "pleasant-tackle",
   "metadata": {},
   "source": [
    "* P-Value quantify how confident we should be that Drug A is different from Drug B\n",
    "* P-value are numbers between 0 and 1\n",
    "* The closer a P-Value is to 0, the more confidence we have that Drug A and Drug B are different."
   ]
  },
  {
   "cell_type": "code",
   "execution_count": null,
   "id": "early-chambers",
   "metadata": {},
   "outputs": [],
   "source": []
  }
 ],
 "metadata": {
  "kernelspec": {
   "display_name": "Python 3",
   "language": "python",
   "name": "python3"
  },
  "language_info": {
   "codemirror_mode": {
    "name": "ipython",
    "version": 3
   },
   "file_extension": ".py",
   "mimetype": "text/x-python",
   "name": "python",
   "nbconvert_exporter": "python",
   "pygments_lexer": "ipython3",
   "version": "3.8.5"
  }
 },
 "nbformat": 4,
 "nbformat_minor": 5
}
