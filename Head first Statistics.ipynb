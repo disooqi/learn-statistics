{
 "cells": [
  {
   "cell_type": "code",
   "execution_count": null,
   "metadata": {},
   "outputs": [],
   "source": []
  },
  {
   "cell_type": "markdown",
   "metadata": {},
   "source": [
    "* **Histograms** are like bar charts but with two key differences. The\n",
    "first is that the area of each bar is proportional to the frequency, and\n",
    "the second is that there are no gaps between the bars on the chart.\n",
    "\n",
    "* Histograms can be drawn using either **frequency** or **frequency density**. \n",
    "\n",
    "* The **cumulative frequency** of a value is the sum of the frequencies up to and including that value. It tells you the total frequency up to that point."
   ]
  },
  {
   "cell_type": "code",
   "execution_count": null,
   "metadata": {},
   "outputs": [],
   "source": []
  }
 ],
 "metadata": {
  "kernelspec": {
   "display_name": "Python 3",
   "language": "python",
   "name": "python3"
  },
  "language_info": {
   "codemirror_mode": {
    "name": "ipython",
    "version": 3
   },
   "file_extension": ".py",
   "mimetype": "text/x-python",
   "name": "python",
   "nbconvert_exporter": "python",
   "pygments_lexer": "ipython3",
   "version": "3.6.3"
  }
 },
 "nbformat": 4,
 "nbformat_minor": 2
}
